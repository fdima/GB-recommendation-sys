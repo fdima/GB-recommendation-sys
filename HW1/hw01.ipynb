{
 "cells": [
  {
   "cell_type": "markdown",
   "metadata": {},
   "source": [
    "# ДЗ 1\n",
    "\n",
    "## Задание 1\n",
    "\n",
    "Сравните метрики hit_rate@k, precision@k. Какую матрику использовать предпочтительно и почему. Привидите пример 2-3 задач (опишите, что является клиентом, что товаром), в которой более уместно использовать метрику hit_rate?"
   ]
  },
  {
   "cell_type": "markdown",
   "metadata": {},
   "source": [
    "### Ответ\n",
    "\n",
    "hit_rate@k - это наличие хотя бы одного релевантного товара из k рекомендованных. <br>precision@k - это доля релевантных товаров из k рекомендованных. \n",
    "- Рекомендации в on-line кинотеатре, нас будет интересовать доля релевантных - precision@k\n",
    "- Рекомендации кандидатов (резюме) на закрытие \"не массовой\" вакансии (например для ТОП-1)- hit_rate@k"
   ]
  },
  {
   "cell_type": "markdown",
   "metadata": {},
   "source": [
    "## Задание 2\n",
    "\n",
    "В метрике NDCG@k мы используем логарифм в знаменателе. Как Вы думаете, почему именно логарифм? Какую функцию можно использовать вместо логарифма? Привидите пример метрик/подходов к предобработке данных/функций ошибок в ML, где также в знаменателе присутствует логарифм."
   ]
  },
  {
   "cell_type": "markdown",
   "metadata": {},
   "source": [
    "### Ответ\n",
    "\n",
    "Логарифм исполтзуется для \"сглаживания\" + удобано использовать при дифференцировании. "
   ]
  },
  {
   "cell_type": "markdown",
   "metadata": {},
   "source": [
    "## Задание 3\n",
    "\n",
    "Какие еще метрики (Вы можете вспомнить уже пройденные Вами или посмотреть в интернете) могут использоваться для рекомендательных систем (приведите примеры метрики и чем являются интеракции, чтобы она могла быть использована)."
   ]
  },
  {
   "cell_type": "markdown",
   "metadata": {},
   "source": [
    "### Ответ\n",
    "\n",
    "#### Непрерывные метрики:\n",
    "Оценка таргетов (товаров, e-товар, ресюме и т.п.) \n",
    "- MAE (Mean Absolute Error) Среднее абсолютное отклонение\n",
    "- MSE (Mean Squared Error) Среднеквадратичная ошибка\n",
    "- RMSE (Root Mean Squared Error) Корень из среднеквадратичной ошибки\n",
    "\n",
    "#### Дискретные метрики:\n",
    "Используются при учёте взаимодействий (движение пользователя/клиента по воронке продажи и взаимодействия):\n",
    "- Precision Доля рекомендаций, понравившихся пользователю\n",
    "- Recall Доля интересных пользователю товаров, которая показана\n",
    "- F1-Measure Среднее гармоническое метрик Precision и Recall. Полезно, когда заранее невозможно сказать, какая из метрик важнее\n",
    "- ROC AUC Насколько высока концентрация интересных товаров в начале списка рекомендаций\n",
    "- Precision@N Метрика Precision, посчитанная на Top-N записях\n",
    "- Recall@N Метрика Recall, посчитанная на Top-N записях\n",
    "- AverageP Среднее значение Precision на всем списке рекомендаций\n",
    "\n",
    "#### Метрики ранжирования (Rank Accuracy):\n",
    "Оценки релевантности в зависимости от позиции\n",
    "- Mean Reciprocal Rank На какой позиции списка рекомендаций пользователь находит первую полезную\n",
    "- Spearman Correlation Корреляция (Спирмена) реального и прогнозируемого рангов рекомендаций\n",
    "- nDCG Информативность выдачи с учетом ранжирования рекомендаций\n",
    "- Fraction of Concordance Pairs Насколько высока концентрация интересных товаров в начале списка рекомендаций"
   ]
  },
  {
   "cell_type": "markdown",
   "metadata": {},
   "source": [
    "## Задание 4"
   ]
  },
  {
   "cell_type": "code",
   "execution_count": 2,
   "metadata": {},
   "outputs": [],
   "source": [
    "boughted = [1, 3, 5, 7, 9, 11]\n",
    "recommended = [2, 5, 7, 4, 11, 9, 8, 10, 12, 3]\n",
    "k = 8"
   ]
  },
  {
   "cell_type": "markdown",
   "metadata": {},
   "source": [
    "Посчитайте на этих данных pr@8, rec@8, AP@8, NDCG@8, RR@8, ERR@8"
   ]
  },
  {
   "cell_type": "code",
   "execution_count": 3,
   "metadata": {},
   "outputs": [],
   "source": [
    "import numpy as np"
   ]
  },
  {
   "cell_type": "markdown",
   "metadata": {},
   "source": [
    "### pr@8"
   ]
  },
  {
   "cell_type": "code",
   "execution_count": 12,
   "metadata": {},
   "outputs": [],
   "source": [
    "def precision_at_k(recommended_list, bought_list, k=5):\n",
    "    \n",
    "    bought_list = np.array(bought_list)\n",
    "    recommended_list = np.array(recommended_list)\n",
    "    \n",
    "    bought_list = bought_list  # Тут нет [:k] !!\n",
    "    recommended_list = recommended_list[:k]\n",
    "    \n",
    "    flags = np.isin(bought_list, recommended_list)\n",
    "    print(flags)\n",
    "    \n",
    "    precision = flags.sum() / len(recommended_list)\n",
    "    \n",
    "    return precision"
   ]
  },
  {
   "cell_type": "code",
   "execution_count": 13,
   "metadata": {},
   "outputs": [
    {
     "name": "stdout",
     "output_type": "stream",
     "text": [
      "[False False  True  True  True  True]\n"
     ]
    },
    {
     "data": {
      "text/plain": [
       "0.5"
      ]
     },
     "execution_count": 13,
     "metadata": {},
     "output_type": "execute_result"
    }
   ],
   "source": [
    "precision_at_k(recommended, boughted, k)"
   ]
  },
  {
   "cell_type": "markdown",
   "metadata": {},
   "source": [
    "### rec@8"
   ]
  },
  {
   "cell_type": "code",
   "execution_count": 14,
   "metadata": {},
   "outputs": [],
   "source": [
    "def recall_at_k(recommended_list, bought_list, k=5):\n",
    "    bought_list = np.array(bought_list)\n",
    "    recommended_list = np.array(recommended_list)[:k]\n",
    "    \n",
    "    flags = np.isin(bought_list, recommended_list)\n",
    "    \n",
    "    recall = flags.sum() / len(bought_list)\n",
    "    \n",
    "    return recall"
   ]
  },
  {
   "cell_type": "code",
   "execution_count": 15,
   "metadata": {},
   "outputs": [
    {
     "data": {
      "text/plain": [
       "0.6666666666666666"
      ]
     },
     "execution_count": 15,
     "metadata": {},
     "output_type": "execute_result"
    }
   ],
   "source": [
    "recall_at_k(recommended, boughted, k)"
   ]
  },
  {
   "cell_type": "markdown",
   "metadata": {},
   "source": [
    "### AP@8"
   ]
  },
  {
   "cell_type": "code",
   "execution_count": 26,
   "metadata": {},
   "outputs": [],
   "source": [
    "def ap_at_k(recommended_list, bought_list, k=5):\n",
    "    \n",
    "    bought_list = np.array(bought_list)\n",
    "    recommended_list = np.array(recommended_list)\n",
    "    \n",
    "    flags = np.isin(recommended_list, bought_list)\n",
    "    \n",
    "    if sum(flags) == 0:\n",
    "        return 0\n",
    "    \n",
    "    sum_ = 0\n",
    "    for i in range(1, k+1): \n",
    "        if flags[i] == True:\n",
    "            p_k = precision_at_k(recommended_list, bought_list, k=i)\n",
    "            sum_ += p_k\n",
    "            \n",
    "    result = sum_ / sum(flags)\n",
    "    \n",
    "    return result"
   ]
  },
  {
   "cell_type": "code",
   "execution_count": 27,
   "metadata": {},
   "outputs": [
    {
     "name": "stdout",
     "output_type": "stream",
     "text": [
      "[False False False False False False]\n",
      "[False False  True False False False]\n",
      "[False False  True  True False False]\n",
      "[False False  True  True False  True]\n"
     ]
    },
    {
     "data": {
      "text/plain": [
       "0.32"
      ]
     },
     "execution_count": 27,
     "metadata": {},
     "output_type": "execute_result"
    }
   ],
   "source": [
    "ap_at_k(recommended, boughted, k)"
   ]
  },
  {
   "cell_type": "markdown",
   "metadata": {},
   "source": [
    "### NDCG@8"
   ]
  },
  {
   "cell_type": "code",
   "execution_count": 63,
   "metadata": {},
   "outputs": [
    {
     "data": {
      "text/plain": [
       "[1.4426950408889634,\n",
       " 0.9102392266268373,\n",
       " 0.7213475204444817,\n",
       " 0.6213349345596119,\n",
       " 0.5581106265512472,\n",
       " 0.5138983423697507,\n",
       " 0.48089834696298783]"
      ]
     },
     "execution_count": 63,
     "metadata": {},
     "output_type": "execute_result"
    }
   ],
   "source": [
    "[1/np.log(i) for i in range(2, k+1)]"
   ]
  },
  {
   "cell_type": "code",
   "execution_count": 64,
   "metadata": {},
   "outputs": [],
   "source": [
    "def ndcg_at_k(recommended_list, bought_list, k=8):\n",
    "    \n",
    "    if k <= 0:\n",
    "        return -1\n",
    "    \n",
    "    if len(recommended_list) < k:\n",
    "        k = len(recommended_list)\n",
    "    \n",
    "    idcg = sum(1/np.log(i) for i in range(2, k+1))+1\n",
    "    \n",
    "    dcg = 0\n",
    "    if recommended_list[0] in bought_list:\n",
    "        dcg = 1\n",
    "    dcg += sum(1/np.log(i) if recommended_list[i-1] in bought_list else 0 for i in range(2, k+1))\n",
    "    \n",
    "    return dcg/idcg"
   ]
  },
  {
   "cell_type": "code",
   "execution_count": 65,
   "metadata": {},
   "outputs": [
    {
     "data": {
      "text/plain": [
       "0.5653142737255068"
      ]
     },
     "execution_count": 65,
     "metadata": {},
     "output_type": "execute_result"
    }
   ],
   "source": [
    "ndcg_at_k(recommended, boughted, k)"
   ]
  },
  {
   "cell_type": "markdown",
   "metadata": {},
   "source": [
    "### RR@8"
   ]
  },
  {
   "cell_type": "code",
   "execution_count": 28,
   "metadata": {},
   "outputs": [],
   "source": [
    "def reciprocal_rank_at_k(recommended_list, bought_list, k=8):\n",
    "    recommended_list = recommended_list[:k]\n",
    "    ranks=0.\n",
    "    for item_rec in recommended_list:\n",
    "        for i, item_bought in enumerate(bought_list):\n",
    "            if item_rec == item_bought:\n",
    "                ranks += 1 / (i+1)\n",
    "    return ranks / len(recommended_list)"
   ]
  },
  {
   "cell_type": "code",
   "execution_count": 29,
   "metadata": {},
   "outputs": [
    {
     "data": {
      "text/plain": [
       "0.095"
      ]
     },
     "execution_count": 29,
     "metadata": {},
     "output_type": "execute_result"
    }
   ],
   "source": [
    "reciprocal_rank_at_k(recommended, boughted, k)"
   ]
  },
  {
   "cell_type": "markdown",
   "metadata": {},
   "source": [
    "### ERR@8\n",
    "\n",
    "Expected Reciprocal Rank (ERR)"
   ]
  },
  {
   "cell_type": "code",
   "execution_count": 59,
   "metadata": {},
   "outputs": [
    {
     "data": {
      "text/plain": [
       "12"
      ]
     },
     "execution_count": 59,
     "metadata": {},
     "output_type": "execute_result"
    }
   ],
   "source": [
    "grade = max(recommended)\n",
    "grade"
   ]
  },
  {
   "cell_type": "code",
   "execution_count": 60,
   "metadata": {},
   "outputs": [],
   "source": [
    "prob = [0]"
   ]
  },
  {
   "cell_type": "code",
   "execution_count": 61,
   "metadata": {},
   "outputs": [
    {
     "data": {
      "text/plain": [
       "[0,\n",
       " 0.000244140625,\n",
       " 0.000732421875,\n",
       " 0.001708984375,\n",
       " 0.003662109375,\n",
       " 0.007568359375,\n",
       " 0.015380859375,\n",
       " 0.031005859375,\n",
       " 0.062255859375,\n",
       " 0.124755859375,\n",
       " 0.249755859375,\n",
       " 0.499755859375,\n",
       " 0.999755859375]"
      ]
     },
     "execution_count": 61,
     "metadata": {},
     "output_type": "execute_result"
    }
   ],
   "source": [
    "prob.extend((2**i-1)/2**grade for i in range(1, grade+1))\n",
    "prob"
   ]
  },
  {
   "cell_type": "code",
   "execution_count": 78,
   "metadata": {},
   "outputs": [
    {
     "data": {
      "text/plain": [
       "[1, 2, 6, 24, 120, 720, 5040, 40320]"
      ]
     },
     "execution_count": 78,
     "metadata": {},
     "output_type": "execute_result"
    }
   ],
   "source": [
    "[np.prod([j+1 for j in range(i)]) for i in range(1, k+1)]"
   ]
  },
  {
   "cell_type": "code",
   "execution_count": 95,
   "metadata": {},
   "outputs": [
    {
     "data": {
      "text/plain": [
       "0.000732421875"
      ]
     },
     "execution_count": 95,
     "metadata": {},
     "output_type": "execute_result"
    }
   ],
   "source": [
    "rec_lst = recommended\n",
    "prob[rec_lst[0]]"
   ]
  },
  {
   "cell_type": "code",
   "execution_count": 102,
   "metadata": {},
   "outputs": [
    {
     "data": {
      "text/plain": [
       "[0.000732421875,\n",
       " 0.0037814080715179443,\n",
       " 0.010249552797176873,\n",
       " 0.0008797815889804994,\n",
       " 0.09569694787104713,\n",
       " 0.009958683006034747,\n",
       " 0.003728237850864333,\n",
       " 0.012272455804730787]"
      ]
     },
     "execution_count": 102,
     "metadata": {},
     "output_type": "execute_result"
    }
   ],
   "source": [
    "[1/i*prob[rec_lst[i-1]]*np.prod([1-prob[rec_lst[j-1]] for j in range(1, i)]) for i in range(1, k+1)]"
   ]
  },
  {
   "cell_type": "code",
   "execution_count": 105,
   "metadata": {},
   "outputs": [
    {
     "data": {
      "text/plain": [
       "1.0"
      ]
     },
     "execution_count": 105,
     "metadata": {},
     "output_type": "execute_result"
    }
   ],
   "source": [
    "np.prod([1-prob[rec_lst[j-1]] for j in range(1, 1)])"
   ]
  },
  {
   "cell_type": "code",
   "execution_count": 103,
   "metadata": {},
   "outputs": [],
   "source": [
    "def expected_reciprocal_rank_at_k(rec_lst, k=8):\n",
    "    \n",
    "    if k <= 0:\n",
    "        return -1\n",
    "    \n",
    "    if len(rec_lst) < k:\n",
    "        k = len(rec_lst)\n",
    "    \n",
    "    rec_lst = rec_lst[:k]\n",
    "    \n",
    "    grade = max(rec_lst)\n",
    "    prob = [0]\n",
    "    prob.extend((2**i-1)/2**grade for i in range(1, grade+1))\n",
    "    \n",
    "    return sum(1/i*prob[rec_lst[i-1]]*np.prod([1-prob[rec_lst[j-1]] for j in range(1, i)]) for i in range(1, k+1))"
   ]
  },
  {
   "cell_type": "code",
   "execution_count": 104,
   "metadata": {},
   "outputs": [
    {
     "data": {
      "text/plain": [
       "0.2141286747780282"
      ]
     },
     "execution_count": 104,
     "metadata": {},
     "output_type": "execute_result"
    }
   ],
   "source": [
    "expected_reciprocal_rank_at_k(recommended, k)"
   ]
  }
 ],
 "metadata": {
  "kernelspec": {
   "display_name": "Python 3",
   "language": "python",
   "name": "python3"
  },
  "language_info": {
   "codemirror_mode": {
    "name": "ipython",
    "version": 3
   },
   "file_extension": ".py",
   "mimetype": "text/x-python",
   "name": "python",
   "nbconvert_exporter": "python",
   "pygments_lexer": "ipython3",
   "version": "3.7.3"
  }
 },
 "nbformat": 4,
 "nbformat_minor": 4
}
